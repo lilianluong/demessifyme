{
 "cells": [
  {
   "cell_type": "markdown",
   "metadata": {},
   "source": [
    "# Document Embedding and Similarity\n",
    "> Lilian Luong"
   ]
  },
  {
   "cell_type": "code",
   "execution_count": 58,
   "metadata": {},
   "outputs": [],
   "source": [
    "# Imports\n",
    "import docx\n",
    "import fitz\n",
    "import gensim\n",
    "import numpy as np\n",
    "import pickle as pkl\n",
    "import time\n",
    "\n",
    "from nltk.corpus import stopwords\n",
    "from nltk.tokenize import word_tokenize\n",
    "from string import punctuation"
   ]
  },
  {
   "cell_type": "code",
   "execution_count": 56,
   "metadata": {},
   "outputs": [],
   "source": [
    "# SETUP\n",
    "# If this is your first time running, uncomment the code below and run once\n",
    "\n",
    "# # Load model from Google .bin and pickle\n",
    "\n",
    "# model = gensim.models.KeyedVectors.load_word2vec_format('./data/GoogleNews-vectors-negative300.bin', binary=True)\n",
    "# with open(\"./data/model.pkl\", \"wb\") as f:\n",
    "#     pkl.dump(model, f)\n",
    "    \n",
    "# # Download from nltk\n",
    "\n",
    "# import nltk\n",
    "# nltk.download('punkt')\n",
    "# nltk.download('stopwords')\n",
    "\n",
    "# # Custom model\n",
    "\n",
    "# with open(\"./data/custom_model.pkl\", \"wb\") as f:\n",
    "#     custom_model = pkl.dump({}, f)"
   ]
  },
  {
   "cell_type": "code",
   "execution_count": 57,
   "metadata": {
    "scrolled": true
   },
   "outputs": [
    {
     "name": "stdout",
     "output_type": "stream",
     "text": [
      "Model loaded in 8.513442993164062 seconds\n",
      "Custom model loaded in 0.005997896194458008 seconds\n",
      "Loaded list of English stopwords\n"
     ]
    }
   ],
   "source": [
    "# Load model from pickle\n",
    "t0 = time.time()\n",
    "with open(\"./data/model.pkl\", \"rb\") as f:\n",
    "    model = pkl.load(f)\n",
    "print(\"Model loaded in\", time.time() - t0, \"seconds\")\n",
    "\n",
    "t0 = time.time()\n",
    "with open(\"./data/custom_model.pkl\", \"rb\") as f:\n",
    "    custom_model = pkl.load(f)\n",
    "print(\"Custom model loaded in\", time.time() - t0, \"seconds\")\n",
    "\n",
    "# Load stopwords from nltk\n",
    "eng_stopwords = stopwords.words('english')\n",
    "print(\"Loaded list of English stopwords\")"
   ]
  },
  {
   "cell_type": "code",
   "execution_count": 25,
   "metadata": {},
   "outputs": [],
   "source": [
    "# Document loading functions\n",
    "# @param filepath   path to a file of the appropriate type\n",
    "# @return           string of text in the document\n",
    "\n",
    "def read_docx(filepath):\n",
    "    doc = docx.Document(filepath)\n",
    "    text = \"\\n\".join([par.text for par in doc.paragraphs])\n",
    "    return text\n",
    "\n",
    "def read_pdf(filepath):\n",
    "    doc = fitz.open(filepath)\n",
    "    text = \"\\n\".join([doc[i].getText(\"text\") for i in range(doc.pageCount)])\n",
    "    doc.close()\n",
    "    return text\n",
    "\n",
    "def read_txt(filepath):\n",
    "    with open(filepath, \"r\") as f:\n",
    "        text = f.read()\n",
    "    return text\n",
    "\n",
    "def read_file(filepath):\n",
    "    \"\"\"Loader for general files, which calls one of the other three.\"\"\"\n",
    "    file_extension = filepath.split(\".\")[-1].lower()\n",
    "    read_func = {\n",
    "        \"docx\": read_docx,\n",
    "        \"pdf\": read_pdf,\n",
    "        \"txt\": read_txt\n",
    "    }[file_extension]\n",
    "    return read_func(filepath)"
   ]
  },
  {
   "cell_type": "code",
   "execution_count": 34,
   "metadata": {
    "scrolled": true
   },
   "outputs": [],
   "source": [
    "docx_text = read_file('./data/docx_test.docx')\n",
    "pdf_text = read_file('./data/pdf_test.pdf')\n",
    "txt_text = read_file('./data/txt_test.txt')"
   ]
  },
  {
   "cell_type": "code",
   "execution_count": 62,
   "metadata": {},
   "outputs": [],
   "source": [
    "def embed_document(text):\n",
    "    \"\"\"Return a 300-dim embedding for document with text text.\"\"\"\n",
    "    for punc in punctuation:\n",
    "        text = text.replace(punc, \" \")\n",
    "    for numb in \"0123456789\":\n",
    "        text = text.replace(numb, \" $number \")\n",
    "    tokens = word_tokenize(text)\n",
    "    embedding = np.zeros((300,))\n",
    "    for token in tokens:\n",
    "        if token in eng_stopwords:\n",
    "            continue\n",
    "        if token not in model:\n",
    "            # token doesn't exist in the model, for now skip\n",
    "            # future approach: generate random vector and save it\n",
    "            # print(token)\n",
    "            if token not in custom_model:\n",
    "                custom_model[token] = np.random.random(size=(300,)) - 0.5\n",
    "            embedding += custom_model[token]\n",
    "            continue\n",
    "        embedding += model[token]\n",
    "    return embedding"
   ]
  },
  {
   "cell_type": "code",
   "execution_count": 60,
   "metadata": {},
   "outputs": [],
   "source": [
    "def cos_similarity(v1, v2):\n",
    "    return np.dot(v1, v2) / np.linalg.norm(v1) / np.linalg.norm(v2)"
   ]
  },
  {
   "cell_type": "code",
   "execution_count": 63,
   "metadata": {},
   "outputs": [
    {
     "name": "stdout",
     "output_type": "stream",
     "text": [
      "0.648661611959087\n",
      "0.6763562931654774\n",
      "0.648661611959087\n",
      "0.3869043236108866\n",
      "0.6763562931654774\n",
      "0.3869043236108865\n"
     ]
    }
   ],
   "source": [
    "documents = (docx_text, pdf_text, txt_text)\n",
    "for a in documents:\n",
    "    for b in documents:\n",
    "        if a != b:\n",
    "            print(cos_similarity(embed_document(a), embed_document(b)))"
   ]
  },
  {
   "cell_type": "code",
   "execution_count": null,
   "metadata": {},
   "outputs": [],
   "source": []
  }
 ],
 "metadata": {
  "kernelspec": {
   "display_name": "Python 3",
   "language": "python",
   "name": "python3"
  },
  "language_info": {
   "codemirror_mode": {
    "name": "ipython",
    "version": 3
   },
   "file_extension": ".py",
   "mimetype": "text/x-python",
   "name": "python",
   "nbconvert_exporter": "python",
   "pygments_lexer": "ipython3",
   "version": "3.8.5"
  }
 },
 "nbformat": 4,
 "nbformat_minor": 4
}
